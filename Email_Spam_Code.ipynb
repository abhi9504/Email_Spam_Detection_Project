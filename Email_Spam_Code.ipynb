{
  "nbformat": 4,
  "nbformat_minor": 0,
  "metadata": {
    "colab": {
      "provenance": []
    },
    "kernelspec": {
      "name": "python3",
      "display_name": "Python 3"
    },
    "language_info": {
      "name": "python"
    }
  },
  "cells": [
    {
      "cell_type": "markdown",
      "source": [
        "# **Coding Part:**"
      ],
      "metadata": {
        "id": "YHyvQF4_fzIa"
      }
    },
    {
      "cell_type": "code",
      "source": [
        "import re\n",
        "from urllib.parse import urlparse\n",
        "\n",
        "# List of known phishing keywords (this can be expanded)\n",
        "phishing_keywords = [\n",
        "    \"urgent\", \"immediate action\", \"verify your account\", \"bank account\", \"password\",\n",
        "    \"click here\", \"update your information\", \"suspended\", \"security alert\"\n",
        "]\n",
        "\n",
        "# List of common suspicious domains\n",
        "suspicious_domains = [\n",
        "    \"bit.ly\", \"goo.gl\", \"t.co\", \"tinyurl.com\", \"is.gd\", \"yahoo-support.com\", \"gmail-support.com\"\n",
        "]\n",
        "\n",
        "# Function to check if a URL in the email is suspicious\n",
        "def check_url(url):\n",
        "    try:\n",
        "        parsed_url = urlparse(url)\n",
        "        domain = parsed_url.netloc.lower()\n",
        "        if domain in suspicious_domains:\n",
        "            return True\n",
        "        return False\n",
        "    except Exception as e:\n",
        "        return False\n",
        "\n",
        "# Function to detect phishing email based on content\n",
        "def detect_phishing_email(subject, body, sender):\n",
        "    # Check if sender address is suspicious\n",
        "    if \"@\" in sender:\n",
        "        domain = sender.split('@')[1].lower()\n",
        "        if domain not in [\"gmail.com\", \"yahoo.com\", \"outlook.com\"]:\n",
        "            print(f\"Suspicious sender domain: {domain}\")\n",
        "            return \"Phishing\"\n",
        "\n",
        "    # Check for common phishing keywords in subject or body\n",
        "    for keyword in phishing_keywords:\n",
        "        if keyword.lower() in subject.lower() or keyword.lower() in body.lower():\n",
        "            print(f\"Phishing keyword detected: {keyword}\")\n",
        "            return \"Phishing\"\n",
        "\n",
        "    # Check for suspicious URLs in the email body\n",
        "    urls = re.findall(r'https?://[^\\s]+', body)\n",
        "    for url in urls:\n",
        "        if check_url(url):\n",
        "            print(f\"Suspicious URL detected: {url}\")\n",
        "            return \"Phishing\"\n",
        "\n",
        "    return \"Safe\"\n",
        "\n",
        "# Main function to get user input and detect phishing\n",
        "def main():\n",
        "    print(\"Welcome to the Fake Phishing Email Detector!\")\n",
        "\n",
        "    # Get email details from user\n",
        "    subject = input(\"Enter the subject of the email: \")\n",
        "    body = input(\"Enter the body text of the email: \")\n",
        "    sender = input(\"Enter the sender email address: \")\n",
        "\n",
        "    # Detect phishing\n",
        "    result = detect_phishing_email(subject, body, sender)\n",
        "    print(f\"Email classification: {result}\")\n",
        "\n",
        "if __name__ == \"__main__\":\n",
        "    main()"
      ],
      "metadata": {
        "colab": {
          "base_uri": "https://localhost:8080/",
          "height": 0
        },
        "id": "iShI5aYHgQWA",
        "outputId": "713b274d-26eb-4ec2-c7b3-59b8592d221c"
      },
      "execution_count": 1,
      "outputs": [
        {
          "output_type": "stream",
          "name": "stdout",
          "text": [
            "Welcome to the Fake Phishing Email Detector!\n",
            "Enter the subject of the email: verify your account\n",
            "Enter the body text of the email: https://bit.ly/verify-now\n",
            "Enter the sender email address: fakebank.com\n",
            "Phishing keyword detected: verify your account\n",
            "Email classification: Phishing\n"
          ]
        }
      ]
    }
  ]
}